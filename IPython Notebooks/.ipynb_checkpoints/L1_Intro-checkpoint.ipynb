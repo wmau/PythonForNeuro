{
 "cells": [
  {
   "cell_type": "markdown",
   "metadata": {
    "collapsed": true
   },
   "source": [
    "# Intro to Python Lesson 1: Basic Operations, Importing, Scripting, and Functions"
   ]
  },
  {
   "cell_type": "markdown",
   "metadata": {},
   "source": [
    "This is Jupyter notebook, a web-based interactive environment for running other people's code. You could also develop code here, but this is not recommended because it's clunky. \n",
    "\n",
    "The first thing you can do in Python is comment code. Commenting is important for reminding yourself what you're doing.\n",
    "\n",
    "Comment code with a #."
   ]
  },
  {
   "cell_type": "code",
   "execution_count": null,
   "metadata": {},
   "outputs": [],
   "source": [
    "# This is a comment. \n",
    "x = 1.5   # This is also a comment. But the thing to the left of the # is not a comment."
   ]
  },
  {
   "cell_type": "markdown",
   "metadata": {},
   "source": [
    "Above, we defined a variable. You can store many things in variables: \n",
    "- A number. In Python, there are multiple data types for numbers, but for now, let's consider one type, float. \n",
    "- Text. These are called \"strings\". \n",
    "- More, described later. \n",
    "\n",
    "Numbers behave just as you would expect. "
   ]
  },
  {
   "cell_type": "code",
   "execution_count": null,
   "metadata": {},
   "outputs": [],
   "source": [
    "1 + 1"
   ]
  },
  {
   "cell_type": "code",
   "execution_count": null,
   "metadata": {},
   "outputs": [],
   "source": [
    "1 - 3"
   ]
  },
  {
   "cell_type": "code",
   "execution_count": null,
   "metadata": {},
   "outputs": [],
   "source": [
    "4 * 2"
   ]
  },
  {
   "cell_type": "code",
   "execution_count": null,
   "metadata": {},
   "outputs": [],
   "source": [
    "5 / 2"
   ]
  },
  {
   "cell_type": "markdown",
   "metadata": {},
   "source": [
    "For exponents, use **"
   ]
  },
  {
   "cell_type": "code",
   "execution_count": null,
   "metadata": {},
   "outputs": [],
   "source": [
    "4**2"
   ]
  },
  {
   "cell_type": "markdown",
   "metadata": {},
   "source": [
    "Remember when we defined x? We can retrieve that from memory and perform operations on it. "
   ]
  },
  {
   "cell_type": "code",
   "execution_count": null,
   "metadata": {},
   "outputs": [],
   "source": [
    "x + 2"
   ]
  },
  {
   "cell_type": "markdown",
   "metadata": {},
   "source": [
    "This does not change the value of x. "
   ]
  },
  {
   "cell_type": "code",
   "execution_count": null,
   "metadata": {},
   "outputs": [],
   "source": [
    "x"
   ]
  },
  {
   "cell_type": "markdown",
   "metadata": {},
   "source": [
    "To store the value of the previous operation, define a new variable. "
   ]
  },
  {
   "cell_type": "code",
   "execution_count": null,
   "metadata": {},
   "outputs": [],
   "source": [
    "bigger_than_x = x + 2 # This line assigns the result of x+2 to the variable called bigger_than_x\n",
    "bigger_than_x         # This line is purely to display the variable. Usually, you don't need to print variables while running your programs."
   ]
  },
  {
   "cell_type": "markdown",
   "metadata": {},
   "source": [
    "What's the value of this?"
   ]
  },
  {
   "cell_type": "code",
   "execution_count": null,
   "metadata": {},
   "outputs": [],
   "source": [
    "mystery_variable = bigger_than_x + x"
   ]
  },
  {
   "cell_type": "markdown",
   "metadata": {},
   "source": [
    "# Functions"
   ]
  },
  {
   "cell_type": "markdown",
   "metadata": {},
   "source": [
    "Most of your time programming will be spent writing functions. Functions take an input (also called arguments), operate on it, then produce an output. To write a function, this is the syntax:"
   ]
  },
  {
   "cell_type": "code",
   "execution_count": null,
   "metadata": {},
   "outputs": [],
   "source": [
    "# The keyword def tells Python you're defining a function. The next value is the function name.\n",
    "def add_two(argument):\n",
    "    # Indentation is important in Python. After the colon, indent the contents of the function. \n",
    "    # What your function does here. \n",
    "    output = argument + 2\n",
    "    \n",
    "    # The keyword return exits the function and spits out the final value. \n",
    "    return output"
   ]
  },
  {
   "cell_type": "markdown",
   "metadata": {},
   "source": [
    "Once you've defined a function, you can use it whenever you want. "
   ]
  },
  {
   "cell_type": "code",
   "execution_count": null,
   "metadata": {},
   "outputs": [],
   "source": [
    "y = add_two(x)\n",
    "y"
   ]
  },
  {
   "cell_type": "code",
   "execution_count": null,
   "metadata": {},
   "outputs": [],
   "source": [
    "z = add_two(x*3) # In programming, the innermost things get resolved first. So here, x*3 happens, then add_two() on 4.5.  \n",
    "z"
   ]
  },
  {
   "cell_type": "markdown",
   "metadata": {},
   "source": [
    "The power of programming comes from the fact that your functions can be infinitely complex. We're only doing arithmetic here, but later you will be able to do more complex things. "
   ]
  },
  {
   "cell_type": "code",
   "execution_count": null,
   "metadata": {},
   "outputs": [],
   "source": [
    "# Defining our insane function.\n",
    "def crazy_town(argument1, argument2):\n",
    "    x = argument1 + argument2\n",
    "    y = x**5 + 2\n",
    "    z = x - y \n",
    "    output = x / 2 + z\n",
    "    \n",
    "    return output\n",
    "\n",
    "# Use the function on some stuff.\n",
    "crazy_town(1204012, 10)"
   ]
  },
  {
   "cell_type": "markdown",
   "metadata": {},
   "source": [
    "# Importing packages"
   ]
  },
  {
   "cell_type": "markdown",
   "metadata": {},
   "source": [
    "Python has many built-in functions. If it's not built-in, it might also live in what's called a package, that other people have developed. Packages can be found online. Usually, if you are looking for a specific functionality, you will consult Google or StackOverflow. Helpful people on SO will direct you to a package of interest. You can then Google the package plus \"conda\", which will bring you to a page like this: https://anaconda.org/conda-forge/scikit-learn. Then you can open Terminal/Anaconda Prompt to install the package according to your OS. \n",
    "\n",
    "Inside packages are modules, which contain functions or other useful Python objects. Modules are imported, usually at the beginning of the Python file you are writing. Here, we'll import a module called stats from a package called scipy. "
   ]
  },
  {
   "cell_type": "code",
   "execution_count": null,
   "metadata": {},
   "outputs": [],
   "source": [
    "# This will import a module called stats from a package called scipy:\n",
    "import scipy.stats as stats\n",
    "\n",
    "# You can also write this as:\n",
    "from scipy import stats"
   ]
  },
  {
   "cell_type": "markdown",
   "metadata": {},
   "source": [
    "The \"as\" in the code above creates a namespace called \"stats\" that contains all your scipy.stats functions. Think of a namespace as a zip code for function names. You can have multiple functions of the same name, as long as they live in different namespaces. For example, there's a 910 Comm Ave in Brookline, but also one in Newton. The zip code (namespace) distinguishes them. "
   ]
  },
  {
   "cell_type": "code",
   "execution_count": null,
   "metadata": {},
   "outputs": [],
   "source": [
    "# This is just an example of using a function in the stats namespace. This particular function will find repeats in a list \n",
    "# of numbers. \n",
    "values, counts = stats.find_repeats([2, 1, 2, 3, 2, 2, 5])\n",
    "\n",
    "# \"values\" contains the values of the list that are repeated.\n",
    "# \"counts\" contains the number of times that the values are repeated. "
   ]
  },
  {
   "cell_type": "markdown",
   "metadata": {},
   "source": [
    "values"
   ]
  },
  {
   "cell_type": "code",
   "execution_count": null,
   "metadata": {},
   "outputs": [],
   "source": [
    "counts"
   ]
  },
  {
   "cell_type": "markdown",
   "metadata": {},
   "source": [
    "Below are some other variants on how you can import packages, modules, and functions. Don't worry too much about the details here. Just know that these options exist. Also I wouldn't recommend crazily importing like we're doing here, since errors can arise under normal conditions. This is just for illustrative purposes. "
   ]
  },
  {
   "cell_type": "code",
   "execution_count": null,
   "metadata": {},
   "outputs": [],
   "source": [
    "from scipy import stats as s\n",
    "s.find_repeats([2, 1, 2, 3, 2, 2, 5])"
   ]
  },
  {
   "cell_type": "code",
   "execution_count": null,
   "metadata": {},
   "outputs": [],
   "source": [
    "from scipy.stats import find_repeats as find_dem_repeats\n",
    "find_dem_repeats([2, 1, 2, 3, 2, 2, 5])"
   ]
  },
  {
   "cell_type": "markdown",
   "metadata": {},
   "source": [
    "You can also import the whole package scipy, if you plan to use a lot of modules from it. It's usually a stylistic choice what you import. "
   ]
  },
  {
   "cell_type": "code",
   "execution_count": null,
   "metadata": {},
   "outputs": [],
   "source": [
    "import scipy\n",
    "scipy.stats.find_repeats([2, 1, 2, 3, 2, 2, 5])"
   ]
  },
  {
   "cell_type": "markdown",
   "metadata": {},
   "source": [
    "# Exercise"
   ]
  },
  {
   "cell_type": "markdown",
   "metadata": {},
   "source": [
    "Now let's get sciencing. Write a script that will load data from a file then plot it. \n",
    "To do this, we will need help from two packages, \"pickle\" and \"matplotlib\". \n",
    "\n",
    "Pickle allows you to save/load Python objects to/from your hard drive. This can be useful for sharing processed data or establishing checkpoints in your analyses. \n",
    "\n",
    "Matplotlib is a library of plotting tools that is very powerful and contains lots of features. "
   ]
  },
  {
   "cell_type": "code",
   "execution_count": null,
   "metadata": {},
   "outputs": [],
   "source": [
    "# Import the library called pickle here. \n",
    "# Import the module matplotlib.pyplot here as \"plt\". \n",
    "\n",
    "# Next, define the variable representing the file path here. The file is called \"fc_velocity.pkl\" and lives in the Data folder. \n",
    "# Name your variable \"fname\".\n",
    "\n",
    "# This line opens the file. \n",
    "with open(fname, 'rb') as file:\n",
    "    # Here, extract the data from \"file\" and store it in a variable. The function you will want to call is named pickle.dump(). \n",
    "    # Google the syntax for it. \n",
    "    \n",
    "# Plot your velocity data using plt.plot(). "
   ]
  },
  {
   "cell_type": "markdown",
   "metadata": {},
   "source": [
    "Next, turn this script into a function. Name it whatever you like, but it must take a file path, load the data from, then plot it, just like above. However, you must also store the data in a variable. "
   ]
  },
  {
   "cell_type": "code",
   "execution_count": null,
   "metadata": {},
   "outputs": [],
   "source": [
    "# Define your function here. "
   ]
  }
 ],
 "metadata": {
  "kernelspec": {
   "display_name": "Python 3",
   "language": "python",
   "name": "python3"
  },
  "language_info": {
   "codemirror_mode": {
    "name": "ipython",
    "version": 3
   },
   "file_extension": ".py",
   "mimetype": "text/x-python",
   "name": "python",
   "nbconvert_exporter": "python",
   "pygments_lexer": "ipython3",
   "version": "3.6.0"
  }
 },
 "nbformat": 4,
 "nbformat_minor": 1
}
