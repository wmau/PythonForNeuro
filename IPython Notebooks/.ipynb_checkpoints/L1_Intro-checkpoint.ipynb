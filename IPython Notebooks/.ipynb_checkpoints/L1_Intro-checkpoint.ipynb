{
 "cells": [
  {
   "cell_type": "markdown",
   "metadata": {
    "collapsed": true
   },
   "source": [
    "# Intro to Python"
   ]
  },
  {
   "cell_type": "markdown",
   "metadata": {},
   "source": [
    "This is Jupyter notebook, a web-based interactive environment for running other people's code. You could also develop code here, but this is not recommended because it's clunky. \n",
    "\n",
    "The first thing you can do in Python is comment code. Commenting is important for reminding yourself what you're doing.\n",
    "\n",
    "**Comment code with a #.**"
   ]
  },
  {
   "cell_type": "code",
   "execution_count": null,
   "metadata": {},
   "outputs": [],
   "source": [
    "# This is a comment. \n",
    "x = 1.5   # This is also a comment. But the thing to the left of the # is not a comment."
   ]
  },
  {
   "cell_type": "markdown",
   "metadata": {},
   "source": [
    "Above, we defined a variable. You can store many things in variables: \n",
    "- A number. In Python, there are multiple data types for numbers, but for now, let's consider one type, float. \n",
    "- Text. These are called \"strings\". \n",
    "- More, described later. \n",
    "\n",
    "Numbers behave just as you would expect. "
   ]
  },
  {
   "cell_type": "code",
   "execution_count": null,
   "metadata": {},
   "outputs": [],
   "source": [
    "1 + 1"
   ]
  },
  {
   "cell_type": "code",
   "execution_count": null,
   "metadata": {},
   "outputs": [],
   "source": [
    "4 * 2"
   ]
  },
  {
   "cell_type": "code",
   "execution_count": null,
   "metadata": {},
   "outputs": [],
   "source": [
    "5 / 2"
   ]
  },
  {
   "cell_type": "markdown",
   "metadata": {},
   "source": [
    "For exponents, use **"
   ]
  },
  {
   "cell_type": "code",
   "execution_count": null,
   "metadata": {},
   "outputs": [],
   "source": [
    "4**2"
   ]
  },
  {
   "cell_type": "markdown",
   "metadata": {},
   "source": [
    "Remember when we defined x? We can retrieve that from memory and perform operations on it. "
   ]
  },
  {
   "cell_type": "code",
   "execution_count": null,
   "metadata": {},
   "outputs": [],
   "source": [
    "x + 2"
   ]
  },
  {
   "cell_type": "markdown",
   "metadata": {},
   "source": [
    "This does not change the value of x. "
   ]
  },
  {
   "cell_type": "code",
   "execution_count": null,
   "metadata": {},
   "outputs": [],
   "source": [
    "x"
   ]
  },
  {
   "cell_type": "markdown",
   "metadata": {},
   "source": [
    "To store the value of the previous operation, define a new variable. "
   ]
  },
  {
   "cell_type": "code",
   "execution_count": null,
   "metadata": {},
   "outputs": [],
   "source": [
    "bigger_than_x = x + 2 # This line assigns the result of x+2 to the variable called bigger_than_x\n",
    "bigger_than_x         # This line is purely to display the variable. Usually, you don't need to print variables while running your programs."
   ]
  },
  {
   "cell_type": "markdown",
   "metadata": {},
   "source": [
    "What's the value of this?"
   ]
  },
  {
   "cell_type": "code",
   "execution_count": null,
   "metadata": {},
   "outputs": [],
   "source": [
    "mystery_variable = bigger_than_x + x"
   ]
  },
  {
   "cell_type": "markdown",
   "metadata": {},
   "source": [
    "# Functions"
   ]
  },
  {
   "cell_type": "markdown",
   "metadata": {},
   "source": [
    "Most of your time will be spent writing functions. Functions take an input (also called arguments), operate on it, then produce an output. To write a function, this is the syntax:"
   ]
  },
  {
   "cell_type": "code",
   "execution_count": null,
   "metadata": {},
   "outputs": [],
   "source": [
    "# The keyword def tells Python you're defining a function. The next value is the function name.\n",
    "def add_two(argument):\n",
    "    # Indentation is important in Python. After the colon, indent the contents of the function. \n",
    "    # What your function does here. \n",
    "    output = argument + 2\n",
    "    \n",
    "    # The keyword return exits the function and spits out the final value. \n",
    "    return output"
   ]
  },
  {
   "cell_type": "markdown",
   "metadata": {},
   "source": [
    "Once you've defined a function, you can use it whenever you want. "
   ]
  },
  {
   "cell_type": "code",
   "execution_count": null,
   "metadata": {},
   "outputs": [],
   "source": [
    "y = add_two(x)\n",
    "y"
   ]
  },
  {
   "cell_type": "code",
   "execution_count": null,
   "metadata": {},
   "outputs": [],
   "source": [
    "z = add_two(x*3) # In programming, the innermost things get resolved first. So here, x*3 happens, then add_two() on 4.5.  \n",
    "z"
   ]
  },
  {
   "cell_type": "markdown",
   "metadata": {},
   "source": [
    "The power of programming comes from the fact that your functions can be infinitely complex. We're only doing arithmetic here, but later you will be able to do more complex things. "
   ]
  },
  {
   "cell_type": "code",
   "execution_count": null,
   "metadata": {},
   "outputs": [],
   "source": [
    "def crazy_town(argument1, argument2):\n",
    "    x = argument1 + argument2\n",
    "    y = x**5 + 2\n",
    "    z = x - y \n",
    "    output = x / 2 + z\n",
    "    \n",
    "    return output\n",
    "\n",
    "crazy_town(1204012, 10)"
   ]
  },
  {
   "cell_type": "markdown",
   "metadata": {},
   "source": [
    "# Importing modules"
   ]
  },
  {
   "cell_type": "markdown",
   "metadata": {},
   "source": [
    "Python has many built-in functions. If it's not built-in, it might also live in what's called a module. Modules are imported, usually at the beginning of the Python file. Here, we'll import a module called stats from a package called scipy. "
   ]
  },
  {
   "cell_type": "code",
   "execution_count": null,
   "metadata": {},
   "outputs": [],
   "source": [
    "# The \"as\" creates a namespace called \"stats\" that contains all your scipy.stats functions.  \n",
    "import scipy.stats as stats"
   ]
  },
  {
   "cell_type": "markdown",
   "metadata": {},
   "source": [
    "Now you can use scipy.stats functions. "
   ]
  },
  {
   "cell_type": "code",
   "execution_count": null,
   "metadata": {},
   "outputs": [],
   "source": [
    "stats.norm.cdf(0)"
   ]
  },
  {
   "cell_type": "markdown",
   "metadata": {},
   "source": [
    "For this next exercise, we will need functions from numpy. Let's import it here: "
   ]
  },
  {
   "cell_type": "code",
   "execution_count": null,
   "metadata": {},
   "outputs": [],
   "source": [
    "# This is the standard way to import numpy. \n",
    "import numpy as np"
   ]
  },
  {
   "cell_type": "markdown",
   "metadata": {},
   "source": [
    "# Exercise"
   ]
  },
  {
   "cell_type": "markdown",
   "metadata": {},
   "source": [
    "Now let's get sciencing. Write a script that will calculate velocity from these arrays of x, y positions and timestamps. Later, convert this into a function. Below I've outlined steps to guide you. "
   ]
  },
  {
   "cell_type": "code",
   "execution_count": null,
   "metadata": {},
   "outputs": [],
   "source": [
    "# 1. Calculate the difference between each data point in each array (dx, dy, dt). Use np.diff() to do this.\n",
    "\n",
    "# 2. The hypotenuse of the differentials is the distance traveled over that time step. \n",
    "\n",
    "# 3. Normalize by the time elapsed between frames. "
   ]
  },
  {
   "cell_type": "markdown",
   "metadata": {},
   "source": [
    "# Strings"
   ]
  },
  {
   "cell_type": "markdown",
   "metadata": {},
   "source": [
    "I only use strings occasionally. Mostly, you use strings to label figures and axes. Sometimes I will print strings to notify myself that I've reached a certain point in my code. "
   ]
  },
  {
   "cell_type": "code",
   "execution_count": null,
   "metadata": {},
   "outputs": [],
   "source": [
    "title_of_my_figure = 'Number of c-fos positive cells'           # Example of title.\n",
    "progress = 'DeepLabCut step #1 complete. Label body parts now.' # Store this string in the variable progress. \n",
    "print(progress)                                                 # Display the string. "
   ]
  },
  {
   "cell_type": "markdown",
   "metadata": {},
   "source": [
    "# Boolean logic"
   ]
  },
  {
   "cell_type": "markdown",
   "metadata": {},
   "source": [
    "Boolean logic is very important to shaping programs. They allow you to gate certain actions and functions conditionally. Sometimes you only care about one condition:"
   ]
  },
  {
   "cell_type": "code",
   "execution_count": null,
   "metadata": {},
   "outputs": [],
   "source": [
    "True"
   ]
  },
  {
   "cell_type": "markdown",
   "metadata": {},
   "source": [
    "Most of the time, you will be storing this in a variable."
   ]
  },
  {
   "cell_type": "code",
   "execution_count": null,
   "metadata": {},
   "outputs": [],
   "source": [
    "extinction_session = True   # Assign the variable. \n",
    "extinction_session          # Display the variable. "
   ]
  },
  {
   "cell_type": "markdown",
   "metadata": {},
   "source": [
    "Here are some other tricks. "
   ]
  },
  {
   "cell_type": "code",
   "execution_count": null,
   "metadata": {},
   "outputs": [],
   "source": [
    "not extinction_session # Negation."
   ]
  },
  {
   "cell_type": "code",
   "execution_count": null,
   "metadata": {},
   "outputs": [],
   "source": [
    "5 < 4 # Comparison operators like > or < ask if what you just entered is true or false and outputs the value. "
   ]
  },
  {
   "cell_type": "code",
   "execution_count": null,
   "metadata": {},
   "outputs": [],
   "source": [
    "x == 1.5 # Double == is different from single =. Single = assigns a variable. Double == asks if the two values are the same. "
   ]
  },
  {
   "cell_type": "markdown",
   "metadata": {},
   "source": [
    "When you care about multiple conditions, use and/or"
   ]
  },
  {
   "cell_type": "code",
   "execution_count": null,
   "metadata": {},
   "outputs": [],
   "source": [
    "opto_session = False\n",
    "extinction_session or opto_session # True when either condition is True. "
   ]
  },
  {
   "cell_type": "code",
   "execution_count": null,
   "metadata": {},
   "outputs": [],
   "source": [
    "extinction_session and opto_session # Only true when both conditions are True."
   ]
  },
  {
   "cell_type": "code",
   "execution_count": null,
   "metadata": {},
   "outputs": [],
   "source": [
    "extinction_session and not opto_session"
   ]
  }
 ],
 "metadata": {
  "kernelspec": {
   "display_name": "Python 3",
   "language": "python",
   "name": "python3"
  },
  "language_info": {
   "codemirror_mode": {
    "name": "ipython",
    "version": 3
   },
   "file_extension": ".py",
   "mimetype": "text/x-python",
   "name": "python",
   "nbconvert_exporter": "python",
   "pygments_lexer": "ipython3",
   "version": "3.6.0"
  }
 },
 "nbformat": 4,
 "nbformat_minor": 1
}
