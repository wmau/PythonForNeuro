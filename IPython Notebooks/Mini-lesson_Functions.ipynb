{
 "cells": [
  {
   "cell_type": "markdown",
   "metadata": {},
   "source": [
    "# Mini-Lesson: Functions"
   ]
  },
  {
   "cell_type": "markdown",
   "metadata": {},
   "source": [
    "Functions are your lifeblood. Therefore, it's important to understand how they work. This is a primer on syntax and common mistakes or bad practices associated with writing functions in Python. "
   ]
  },
  {
   "cell_type": "markdown",
   "metadata": {},
   "source": [
    "# Defining a function"
   ]
  },
  {
   "cell_type": "markdown",
   "metadata": {},
   "source": [
    "A function is created when you *define* it. In Python, to do this you use the `def` keyword followed by the name of the function then parentheses and a colon. Everything you want the function to do, must be under the definition and indented. "
   ]
  },
  {
   "cell_type": "code",
   "execution_count": null,
   "metadata": {},
   "outputs": [],
   "source": [
    "def my_function():\n",
    "    print('Hello world.')"
   ]
  },
  {
   "cell_type": "markdown",
   "metadata": {},
   "source": [
    "`my_function()` is now stored as a \"verb\" that the computer can perform whenever you *call* it. "
   ]
  },
  {
   "cell_type": "markdown",
   "metadata": {},
   "source": [
    "# Calling a function"
   ]
  },
  {
   "cell_type": "markdown",
   "metadata": {},
   "source": [
    "When you call a function, you tell the computer to do the actions and computations under that function's definition. To call a function, enter the name of the function followed by parentheses. "
   ]
  },
  {
   "cell_type": "code",
   "execution_count": null,
   "metadata": {},
   "outputs": [],
   "source": [
    "my_function()"
   ]
  },
  {
   "cell_type": "markdown",
   "metadata": {},
   "source": [
    "# Functions with arguments"
   ]
  },
  {
   "cell_type": "markdown",
   "metadata": {},
   "source": [
    "Usually, you will want to define functions that take inputs (also called *arguments* or *parameters*). To do this, when defining the function, enter in a variable name."
   ]
  },
  {
   "cell_type": "code",
   "execution_count": null,
   "metadata": {},
   "outputs": [],
   "source": [
    "def greet(name):\n",
    "    print('Sup, ' + name + '?')"
   ]
  },
  {
   "cell_type": "markdown",
   "metadata": {},
   "source": [
    "Above is a function that will greet whoever you want. Note that what you enter (or *pass*) through the function is very flexible. It doesn't even need to be called `name`, as seen in the third example. As long as the variable `name` inside the function's definition is consistent, it will work. "
   ]
  },
  {
   "cell_type": "code",
   "execution_count": null,
   "metadata": {},
   "outputs": [],
   "source": [
    "greet('Christine') # You can pass the string directly into the function."
   ]
  },
  {
   "cell_type": "code",
   "execution_count": null,
   "metadata": {},
   "outputs": [],
   "source": [
    "name = 'Kaitlyn' # You can define the string first. \n",
    "greet(name) # Then pass the variable containing the string. "
   ]
  },
  {
   "cell_type": "code",
   "execution_count": null,
   "metadata": {},
   "outputs": [],
   "source": [
    "noob = 'Orlin' # The variable name doesn't need to be the same as the variable name in the function.\n",
    "greet(noob)    # Python knows to map the input \"noob\" onto \"name\". "
   ]
  },
  {
   "cell_type": "markdown",
   "metadata": {},
   "source": [
    "You can have as many arguments as you want. To define multiple arguments, separate them with commas."
   ]
  },
  {
   "cell_type": "code",
   "execution_count": null,
   "metadata": {},
   "outputs": [],
   "source": [
    "def introduce(other_person, me):\n",
    "    print('Sup, ' + other_person + '? My name is ' + me + '.')"
   ]
  },
  {
   "cell_type": "markdown",
   "metadata": {},
   "source": [
    "When you call the function, pass arguments in the order they appear when you defined the function."
   ]
  },
  {
   "cell_type": "code",
   "execution_count": null,
   "metadata": {},
   "outputs": [],
   "source": [
    "introduce('Stella', 'Will')"
   ]
  },
  {
   "cell_type": "code",
   "execution_count": null,
   "metadata": {},
   "outputs": [],
   "source": [
    "my_name = 'Will'\n",
    "\n",
    "introduce('Olivia', my_name)"
   ]
  },
  {
   "cell_type": "code",
   "execution_count": null,
   "metadata": {},
   "outputs": [],
   "source": [
    "cool_guy = 'Nat'\n",
    "my_name = 'Will'\n",
    "\n",
    "introduce(cool_guy, my_name)"
   ]
  },
  {
   "cell_type": "markdown",
   "metadata": {},
   "source": [
    "Obviously, if you swap the order of the inputs in your call, it will swap the outputs."
   ]
  },
  {
   "cell_type": "code",
   "execution_count": null,
   "metadata": {},
   "outputs": [],
   "source": [
    "introduce(my_name, cool_guy)"
   ]
  },
  {
   "cell_type": "markdown",
   "metadata": {},
   "source": [
    "However, you can swap the order of your arguments if you clarify with the variable names you defined during definition of the function. "
   ]
  },
  {
   "cell_type": "code",
   "execution_count": null,
   "metadata": {},
   "outputs": [],
   "source": [
    "introduce(me='Will', other_person='Nat') # Note that 'me' and 'other_person' are reversed, \n",
    "                                         # but we explicitly say that 'me' is Will and 'other_person' is Nat during the call. "
   ]
  },
  {
   "cell_type": "markdown",
   "metadata": {},
   "source": [
    "If one of your arguments rarely changes, you can set a default during your definition the same way you would define a variable. If an argument defined this way is not specified when you call it, Python will automatically use the default. "
   ]
  },
  {
   "cell_type": "code",
   "execution_count": null,
   "metadata": {},
   "outputs": [],
   "source": [
    "def introduce(other_person, me='Will'):\n",
    "    print('Sup, ' + other_person + '? My name is ' + me + '.')"
   ]
  },
  {
   "cell_type": "code",
   "execution_count": null,
   "metadata": {},
   "outputs": [],
   "source": [
    "introduce('Evan') # No 'me' parameter. "
   ]
  },
  {
   "cell_type": "markdown",
   "metadata": {},
   "source": [
    "However, if you do specify the parameter, the function behaves just like it did before. "
   ]
  },
  {
   "cell_type": "code",
   "execution_count": null,
   "metadata": {},
   "outputs": [],
   "source": [
    "introduce('Evan', 'Nat')"
   ]
  },
  {
   "cell_type": "markdown",
   "metadata": {},
   "source": [
    "# Returning values"
   ]
  },
  {
   "cell_type": "markdown",
   "metadata": {},
   "source": [
    "Usually, you will build something like an assembly line of functions, each function doing a thing that feeds into another function that does another thing. To achieve this, each function along the way has to have an output into a variable. The above functions don't do this. They just print to the screen, but don't save the outputs. To prove this, see below."
   ]
  },
  {
   "cell_type": "code",
   "execution_count": null,
   "metadata": {},
   "outputs": [],
   "source": [
    "this_is_empty = introduce('Evan', 'Nat') # This will print a message. "
   ]
  },
  {
   "cell_type": "code",
   "execution_count": null,
   "metadata": {},
   "outputs": [],
   "source": [
    "this_is_empty # Try to run this. It's empty. "
   ]
  },
  {
   "cell_type": "markdown",
   "metadata": {},
   "source": [
    "So how do you store the value? To do this, use the keyword `return`. `return` exits the function and outputs anything inside the function definition, which you can then store in a variable. To assign what variable to output, simply do `return` and then your variable name"
   ]
  },
  {
   "cell_type": "code",
   "execution_count": null,
   "metadata": {},
   "outputs": [],
   "source": [
    "def introduce(other_person, me='Will'): # Feel free to change me='Will' to your own name. \n",
    "    message = 'Sup, ' + other_person + '? My name is ' + me + '.'\n",
    "    \n",
    "    print(message)\n",
    "    \n",
    "    return message"
   ]
  },
  {
   "cell_type": "markdown",
   "metadata": {},
   "source": [
    "Now, the function will store the text and output it. "
   ]
  },
  {
   "cell_type": "code",
   "execution_count": null,
   "metadata": {},
   "outputs": [],
   "source": [
    "message = introduce('Abby')"
   ]
  },
  {
   "cell_type": "code",
   "execution_count": null,
   "metadata": {},
   "outputs": [],
   "source": [
    "message"
   ]
  },
  {
   "cell_type": "markdown",
   "metadata": {},
   "source": [
    "Just like with arguments, you can `return` as many things as you wish. Again, use commas to separate different outputs. Also, just like with arguments, they don't need to match the variable name in your definition."
   ]
  },
  {
   "cell_type": "code",
   "execution_count": null,
   "metadata": {},
   "outputs": [],
   "source": [
    "def introduce(other_person, me='Will'):\n",
    "    message = 'Sup, ' + other_person + '? My name is ' + me + '.'\n",
    "    \n",
    "    print(message)\n",
    "    \n",
    "    return message, other_person, me"
   ]
  },
  {
   "cell_type": "code",
   "execution_count": null,
   "metadata": {},
   "outputs": [],
   "source": [
    "text, Ramirez_lab_member, myself = introduce('Merf') # Note that these are not 'message', 'other_person' or 'me', \n",
    "                                                     # but will still work."
   ]
  },
  {
   "cell_type": "code",
   "execution_count": null,
   "metadata": {},
   "outputs": [],
   "source": [
    "text"
   ]
  },
  {
   "cell_type": "code",
   "execution_count": null,
   "metadata": {},
   "outputs": [],
   "source": [
    "Ramirez_lab_member"
   ]
  },
  {
   "cell_type": "code",
   "execution_count": null,
   "metadata": {},
   "outputs": [],
   "source": [
    "myself"
   ]
  },
  {
   "cell_type": "markdown",
   "metadata": {},
   "source": [
    "# An assembly line of functions"
   ]
  },
  {
   "cell_type": "markdown",
   "metadata": {},
   "source": [
    "Now that we have ouputs from `introduce()`, we can manipulate those ouputs with yet another function. So let's take that greeting message and then add on text to it. "
   ]
  },
  {
   "cell_type": "code",
   "execution_count": null,
   "metadata": {},
   "outputs": [],
   "source": [
    "def ask_for(message, thing):\n",
    "    new_message = message + ' Can I have that ' + thing + '?'\n",
    "    \n",
    "    print(new_message)\n",
    "    \n",
    "    return new_message"
   ]
  },
  {
   "cell_type": "code",
   "execution_count": null,
   "metadata": {},
   "outputs": [],
   "source": [
    "message, other_person, me = introduce('Heloise') \n",
    "new_message = ask_for(message, 'pen')"
   ]
  },
  {
   "cell_type": "markdown",
   "metadata": {},
   "source": [
    "At this point, maybe you're pretty happy with this. You can flexibly introduce yourself to whoever you want and ask for some item within reach. But since I like clean, flexible functions, I'm going to do some tidying up and redefine some functions. Then I'm going to write what's called a \"wrapper\" function that runs both `introduce()` and `ask_for()` so I don't have to run them both individually. This saves a bunch of time, especially when your assembly line of functions grows longer."
   ]
  },
  {
   "cell_type": "code",
   "execution_count": null,
   "metadata": {},
   "outputs": [],
   "source": [
    "def introduce(other_person, me='Will'): # Feel free to change me='Will' to your own name. \n",
    "    message = 'Sup, ' + other_person + '? My name is ' + me + '.'\n",
    "    \n",
    "    # I deleted the print(message) here since this is printed later on anyway in ask_for(). \n",
    "    \n",
    "    return message, other_person, me\n",
    "\n",
    "def ask_for(message, thing):\n",
    "    new_message = message + ' Can I have ' + thing + '?'\n",
    "    \n",
    "    print(new_message)\n",
    "    \n",
    "    return new_message\n",
    "\n",
    "def introduce_then_request(person, thing='a dollar'):\n",
    "    message, person, me = introduce(person)\n",
    "    new_message = ask_for(message, thing)\n",
    "    \n",
    "    return new_message, person, me"
   ]
  },
  {
   "cell_type": "markdown",
   "metadata": {},
   "source": [
    "Now, let's call our wrapper function."
   ]
  },
  {
   "cell_type": "code",
   "execution_count": null,
   "metadata": {},
   "outputs": [],
   "source": [
    "new_message, person, me = introduce_then_request('Troy')"
   ]
  },
  {
   "cell_type": "code",
   "execution_count": null,
   "metadata": {},
   "outputs": [],
   "source": [
    "new_message, person, me = introduce_then_request('Nat', 'your bike')"
   ]
  },
  {
   "cell_type": "code",
   "execution_count": null,
   "metadata": {},
   "outputs": [],
   "source": [
    "new_message, person, me = introduce_then_request('Kaitlyn', 'some of your best memes, please')"
   ]
  },
  {
   "cell_type": "markdown",
   "metadata": {},
   "source": [
    "Fin."
   ]
  },
  {
   "cell_type": "markdown",
   "metadata": {},
   "source": [
    "# Common mishaps"
   ]
  },
  {
   "cell_type": "markdown",
   "metadata": {},
   "source": [
    "When you write a function, the flexibility is built into the arguments that you define. Don't then modify your arguments inside your function, because that will overwrite the variable you feed in, making it overall less flexible."
   ]
  },
  {
   "cell_type": "code",
   "execution_count": null,
   "metadata": {},
   "outputs": [],
   "source": [
    "def greet(name):\n",
    "    name = 'Christine' # Don't do this!!!!!!!!\n",
    "    print('Sup, ' + name + '?')"
   ]
  },
  {
   "cell_type": "code",
   "execution_count": null,
   "metadata": {},
   "outputs": [],
   "source": [
    "greet('Will')"
   ]
  },
  {
   "cell_type": "code",
   "execution_count": null,
   "metadata": {},
   "outputs": [],
   "source": [
    "greet(name='Evan')"
   ]
  },
  {
   "cell_type": "code",
   "execution_count": null,
   "metadata": {},
   "outputs": [],
   "source": [
    "name = 'Olivia'\n",
    "greet(name)"
   ]
  },
  {
   "cell_type": "markdown",
   "metadata": {},
   "source": [
    "More to come as I see them occur / as I think of more..."
   ]
  }
 ],
 "metadata": {
  "kernelspec": {
   "display_name": "Python 3",
   "language": "python",
   "name": "python3"
  },
  "language_info": {
   "codemirror_mode": {
    "name": "ipython",
    "version": 3
   },
   "file_extension": ".py",
   "mimetype": "text/x-python",
   "name": "python",
   "nbconvert_exporter": "python",
   "pygments_lexer": "ipython3",
   "version": "3.6.0"
  }
 },
 "nbformat": 4,
 "nbformat_minor": 2
}
