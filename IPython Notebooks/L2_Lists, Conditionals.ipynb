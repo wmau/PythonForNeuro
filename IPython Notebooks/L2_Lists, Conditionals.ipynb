{
 "cells": [
  {
   "cell_type": "markdown",
   "metadata": {},
   "source": [
    "# Intro to Python Lesson 2: "
   ]
  },
  {
   "cell_type": "markdown",
   "metadata": {},
   "source": [
    "# Strings"
   ]
  },
  {
   "cell_type": "markdown",
   "metadata": {},
   "source": [
    "Strings are another data type (like numbers) and are simply text. You define strings by enclosing them in quotation marks (either \" or ') Their use is fairly intuitive. Most of the time you will be using strings to point to directories and folders. Recall the last session where we used a string to point to particular data files in this repository (repo). "
   ]
  },
  {
   "cell_type": "code",
   "execution_count": 11,
   "metadata": {},
   "outputs": [
    {
     "data": {
      "text/plain": [
       "array([24.18518519, 27.15384615, 29.84615385, ..., 13.88888889,\n",
       "       13.33333333, 12.77777778])"
      ]
     },
     "execution_count": 11,
     "metadata": {},
     "output_type": "execute_result"
    }
   ],
   "source": [
    "import pickle\n",
    "fname = '../Data/fc_velocity.pkl'  #The .. means leave the current folder to go up a level\n",
    "\n",
    "# I only use the \"with\" keyword occasionally. The open() function requires that you close whatever you open later, but \n",
    "# when you have open() in a \"with statement\", the file automatically gets closed for you. \n",
    "# The 'rb' is just a mode of opening. Here, we are reading (r) a byte (b) file. \n",
    "# Refer to the open() documentation if you want to learn more. \n",
    "with open(fname, 'rb') as file: # Here, we are opening the file specified in fname and storing the opened file in \"file\". \n",
    "    data = pickle.load(file)    # Then we load and store the data in \"data\". \n",
    "# Exiting the statement closes the file. \n",
    "\n",
    "data"
   ]
  },
  {
   "cell_type": "markdown",
   "metadata": {},
   "source": [
    "Another common use for strings is labeling figures. "
   ]
  },
  {
   "cell_type": "code",
   "execution_count": 21,
   "metadata": {},
   "outputs": [
    {
     "data": {
      "image/png": "[encoded data removed]",
      "text/plain": [
       "<Figure size 432x288 with 1 Axes>"
      ]
     },
     "metadata": {
      "needs_background": "light"
     },
     "output_type": "display_data"
    }
   ],
   "source": [
    "import matplotlib.pyplot as plt # Standard way to import matplotlib's pyplot. \n",
    "\n",
    "plt.plot(data)\n",
    "title_of_my_figure = 'Fear conditioning velocity'           \n",
    "plt.title(title_of_my_figure)  # Set title.\n",
    "plt.xlabel('Time samples')     # Set x-axis label.\n",
    "plt.ylabel('Velocity [cm/s]')  # Set y-axis label.\n",
    "plt.show()                     # Display the plot. "
   ]
  },
  {
   "cell_type": "markdown",
   "metadata": {},
   "source": [
    "Other times you can print strings to the console to mark progress. "
   ]
  },
  {
   "cell_type": "code",
   "execution_count": 13,
   "metadata": {},
   "outputs": [
    {
     "name": "stdout",
     "output_type": "stream",
     "text": [
      "DeepLabCut step #1 complete. Label body parts now.\n"
     ]
    }
   ],
   "source": [
    "progress = 'DeepLabCut step #1 complete. Label body parts now.' # Store this string in the variable progress. \n",
    "print(progress)                                                 # The function print() displays the string. "
   ]
  },
  {
   "cell_type": "markdown",
   "metadata": {},
   "source": [
    "Here are some other tricks with strings. "
   ]
  },
  {
   "cell_type": "code",
   "execution_count": 1,
   "metadata": {},
   "outputs": [
    {
     "name": "stdout",
     "output_type": "stream",
     "text": [
      "Stuart Little\n"
     ]
    }
   ],
   "source": [
    "# You can combine strings with the + operator. \n",
    "first_name = 'Stuart'\n",
    "last_name = 'Little'\n",
    "\n",
    "# The middle term here is just a space. \n",
    "mouse = first_name + ' ' + last_name\n",
    "print(mouse)"
   ]
  },
  {
   "cell_type": "code",
   "execution_count": 29,
   "metadata": {},
   "outputs": [
    {
     "name": "stdout",
     "output_type": "stream",
     "text": [
      "../Data\n",
      "../Data/fc_velocity.pkl\n",
      "\n",
      "../Data/fc_velocity.pkl\n"
     ]
    }
   ],
   "source": [
    "# When working with paths, use the os module. \n",
    "import os \n",
    "\n",
    "repo_folder = '..'\n",
    "data_folder = os.path.join(repo_folder, 'Data') # os.path.join() joins folder names to directories for you. \n",
    "data_file = os.path.join(data_folder, 'fc_velocity.pkl') \n",
    "print(data_folder)\n",
    "print(data_file)\n",
    "\n",
    "print('') # Just a skips a line in the console.\n",
    "\n",
    "# This way works too. You can join an infinite number of folders with os.path.join() as far as I know. \n",
    "data_file2 = os.path.join(repo_folder, 'Data', 'fc_velocity.pkl')\n",
    "print(data_file2)"
   ]
  },
  {
   "cell_type": "markdown",
   "metadata": {},
   "source": [
    "Overall, using strings is pretty intuitive and not essential to learning programming principles. "
   ]
  },
  {
   "cell_type": "markdown",
   "metadata": {},
   "source": [
    "# Lists and numpy arrays"
   ]
  },
  {
   "cell_type": "markdown",
   "metadata": {},
   "source": [
    "Lists and numpy arrays are extremely useful for organizing neuroscience data; most of my data is stored in lists and numpy arrays. Lists are a native data type to base Python, but numpy arrays originate from the numpy package. Let's import that now.  "
   ]
  },
  {
   "cell_type": "code",
   "execution_count": 38,
   "metadata": {},
   "outputs": [],
   "source": [
    "import numpy as np # Standard way to import numpy."
   ]
  },
  {
   "cell_type": "markdown",
   "metadata": {},
   "source": [
    "Let's go over numpy arrays first. For Matlab folks, numpy arrays work pretty much the same as Matlab arrays. Basically, arrays store multiple numbers. The velocity data we loaded from the pkl file is in an array. "
   ]
  },
  {
   "cell_type": "code",
   "execution_count": 31,
   "metadata": {},
   "outputs": [
    {
     "data": {
      "text/plain": [
       "array([ 9.88888889, 16.30769231, 24.19230769, ..., 13.2962963 ,\n",
       "       11.25925926,  9.22222222])"
      ]
     },
     "execution_count": 31,
     "metadata": {},
     "output_type": "execute_result"
    }
   ],
   "source": [
    "data # You can see the data type preceding all the values inside \"data\". "
   ]
  },
  {
   "cell_type": "code",
   "execution_count": 34,
   "metadata": {},
   "outputs": [
    {
     "data": {
      "text/plain": [
       "(37329,)"
      ]
     },
     "execution_count": 34,
     "metadata": {},
     "output_type": "execute_result"
    }
   ],
   "source": [
    "data.shape # This tells you the shape of the data. There are 37,239 values in this array. "
   ]
  },
  {
   "cell_type": "markdown",
   "metadata": {},
   "source": [
    "Most of the time, arrays will be real data so you'll be loading them in rather than creating arrays from scratch. But if you ever want to make an array, you can pass a list into function np.asarray(). "
   ]
  },
  {
   "cell_type": "code",
   "execution_count": 40,
   "metadata": {},
   "outputs": [
    {
     "data": {
      "text/plain": [
       "array([1, 2, 3, 4, 5])"
      ]
     },
     "execution_count": 40,
     "metadata": {},
     "output_type": "execute_result"
    }
   ],
   "source": [
    "my_array = np.asarray([1, 2, 3, 4, 5]) # See below on how to make a list. \n",
    "my_array"
   ]
  },
  {
   "cell_type": "markdown",
   "metadata": {},
   "source": [
    "Lists are similar to arrays in that they store multiple values. I will use arrays in most situations because arrays take up less memory and are generally faster than lists. However, lists are \n",
    "\n",
    "You can define lists by entering values separated by commas, all enclosed in brackets []. "
   ]
  },
  {
   "cell_type": "code",
   "execution_count": 41,
   "metadata": {},
   "outputs": [
    {
     "name": "stdout",
     "output_type": "stream",
     "text": [
      "[4, 8, 15, 16, 23, 42]\n",
      "['Fear conditioning', 'Extinction', 'Reinstatement', 'Recall']\n"
     ]
    }
   ],
   "source": [
    "numeric_list = [4, 8, 15, 16, 23, 42] # A list of numbers. Brownie points if you recognize this list. \n",
    "str_list = ['Fear conditioning', 'Extinction', 'Reinstatement', 'Recall'] # List of strings. \n",
    "\n",
    "print(numeric_list)\n",
    "print(str_list)"
   ]
  },
  {
   "cell_type": "code",
   "execution_count": 44,
   "metadata": {},
   "outputs": [
    {
     "data": {
      "text/plain": [
       "array([list([1, 2]), list(['Hello'])], dtype=object)"
      ]
     },
     "execution_count": 44,
     "metadata": {},
     "output_type": "execute_result"
    }
   ],
   "source": []
  },
  {
   "cell_type": "markdown",
   "metadata": {},
   "source": [
    "Lists can also have mixed values. "
   ]
  },
  {
   "cell_type": "code",
   "execution_count": 30,
   "metadata": {},
   "outputs": [
    {
     "data": {
      "image/png": "[encoded data removed]",
      "text/plain": [
       "<Figure size 432x288 with 1 Axes>"
      ]
     },
     "metadata": {
      "needs_background": "light"
     },
     "output_type": "display_data"
    },
    {
     "data": {
      "image/png": "[encoded data removed]",
      "text/plain": [
       "<Figure size 432x288 with 1 Axes>"
      ]
     },
     "metadata": {
      "needs_background": "light"
     },
     "output_type": "display_data"
    }
   ],
   "source": [
    "files = [fname, '../Data/ext_velocity.pkl']\n",
    "for file in files: \n",
    "    with open(file, 'rb') as f:\n",
    "        data = pickle.load(f)\n",
    "        \n",
    "    plt.plot(data)\n",
    "    plt.show()"
   ]
  },
  {
   "cell_type": "markdown",
   "metadata": {},
   "source": [
    "# Boolean logic"
   ]
  },
  {
   "cell_type": "markdown",
   "metadata": {},
   "source": [
    "Boolean logic is very important to designing programs. They allow you to gate certain actions and functions conditionally. Sometimes you only care about one condition:"
   ]
  },
  {
   "cell_type": "code",
   "execution_count": null,
   "metadata": {},
   "outputs": [],
   "source": [
    "True"
   ]
  },
  {
   "cell_type": "markdown",
   "metadata": {},
   "source": [
    "Most of the time, you will be storing this in a variable."
   ]
  },
  {
   "cell_type": "code",
   "execution_count": 2,
   "metadata": {},
   "outputs": [
    {
     "data": {
      "text/plain": [
       "True"
      ]
     },
     "execution_count": 2,
     "metadata": {},
     "output_type": "execute_result"
    }
   ],
   "source": [
    "extinction_session = True   # Assign the variable. \n",
    "extinction_session          # Display the variable. "
   ]
  },
  {
   "cell_type": "markdown",
   "metadata": {},
   "source": [
    "Here are some other tricks. "
   ]
  },
  {
   "cell_type": "code",
   "execution_count": 4,
   "metadata": {},
   "outputs": [
    {
     "data": {
      "text/plain": [
       "False"
      ]
     },
     "execution_count": 4,
     "metadata": {},
     "output_type": "execute_result"
    }
   ],
   "source": [
    "not extinction_session # Negation."
   ]
  },
  {
   "cell_type": "code",
   "execution_count": 5,
   "metadata": {},
   "outputs": [
    {
     "data": {
      "text/plain": [
       "False"
      ]
     },
     "execution_count": 5,
     "metadata": {},
     "output_type": "execute_result"
    }
   ],
   "source": [
    "5 < 4 # Comparison operators like > or < ask if what you just entered is true or false and outputs the value. "
   ]
  },
  {
   "cell_type": "code",
   "execution_count": 7,
   "metadata": {},
   "outputs": [
    {
     "data": {
      "text/plain": [
       "False"
      ]
     },
     "execution_count": 7,
     "metadata": {},
     "output_type": "execute_result"
    }
   ],
   "source": [
    "2.5 == 1.5 # == is different from =. = assigns a variable. == asks if the two values are the same. "
   ]
  },
  {
   "cell_type": "markdown",
   "metadata": {},
   "source": [
    "When you care about multiple conditions, use and/or. For example, this might be useful if you want to batch-analyze your entire\n",
    "dataset, but want to filter out certain sessions."
   ]
  },
  {
   "cell_type": "code",
   "execution_count": 8,
   "metadata": {},
   "outputs": [
    {
     "data": {
      "text/plain": [
       "True"
      ]
     },
     "execution_count": 8,
     "metadata": {},
     "output_type": "execute_result"
    }
   ],
   "source": [
    "opto_session = False\n",
    "extinction_session or opto_session # True when either condition is True. "
   ]
  },
  {
   "cell_type": "code",
   "execution_count": 9,
   "metadata": {},
   "outputs": [
    {
     "data": {
      "text/plain": [
       "False"
      ]
     },
     "execution_count": 9,
     "metadata": {},
     "output_type": "execute_result"
    }
   ],
   "source": [
    "extinction_session and opto_session # Only true when both conditions are True."
   ]
  },
  {
   "cell_type": "code",
   "execution_count": 10,
   "metadata": {},
   "outputs": [
    {
     "data": {
      "text/plain": [
       "True"
      ]
     },
     "execution_count": 10,
     "metadata": {},
     "output_type": "execute_result"
    }
   ],
   "source": [
    "extinction_session and not opto_session"
   ]
  },
  {
   "cell_type": "code",
   "execution_count": null,
   "metadata": {},
   "outputs": [],
   "source": []
  }
 ],
 "metadata": {
  "kernelspec": {
   "display_name": "Python 3",
   "language": "python",
   "name": "python3"
  },
  "language_info": {
   "codemirror_mode": {
    "name": "ipython",
    "version": 3
   },
   "file_extension": ".py",
   "mimetype": "text/x-python",
   "name": "python",
   "nbconvert_exporter": "python",
   "pygments_lexer": "ipython3",
   "version": "3.6.8"
  }
 },
 "nbformat": 4,
 "nbformat_minor": 2
}
