{
 "cells": [
  {
   "cell_type": "markdown",
   "metadata": {
    "collapsed": true
   },
   "source": [
    "# Intro to Python Lesson 1: Basic Operations, Importing, Scripting, and Functions"
   ]
  },
  {
   "cell_type": "markdown",
   "metadata": {},
   "source": [
    "This is Jupyter notebook, a web-based interactive environment for running other people's code. You could also develop code here, but this is not recommended because it's clunky. \n",
    "\n",
    "Jupyter notebook actually supports many programming languages, including Python. When we use Python in the Jupyter notebook, it's referred to as an IPython notebook. \n",
    "\n",
    "Executing commands in the notebook is straightforward. Select a box (called a cell), then click the \"Run\" button at the top of the page. This will automatically run all the commands in the cell. You can insert next cells using the \"Insert\" menu. Sometimes you'll want to restart your session. You can do this from the \"Kernel\" menu. \n",
    "\n",
    "The first thing you can do in Python is comment code. Commenting is important for reminding yourself what you're doing.\n",
    "\n",
    "Comment code with a #."
   ]
  },
  {
   "cell_type": "code",
   "execution_count": null,
   "metadata": {},
   "outputs": [],
   "source": [
    "# This is a comment. Nothing happens when you run this cell. "
   ]
  },
  {
   "cell_type": "markdown",
   "metadata": {},
   "source": [
    "Below, we define a variable. You can store many things in variables: \n",
    "- A number. In Python, there are multiple data types for numbers, but for now, let's consider one type, float. \n",
    "- Text. These are called \"strings\". \n",
    "- More, to be covered in the future. \n",
    "\n",
    "Today, we'll only be covering numbers (and lists of numbers) to keep things simple. We'll move onto more complex data types at a later time. "
   ]
  },
  {
   "cell_type": "code",
   "execution_count": 1,
   "metadata": {},
   "outputs": [],
   "source": [
    "# Here, we set a variable to a specific value, 1.5. The name of this variable is x. \n",
    "x = 1.5   # This is also a comment. But the thing to the left of the # is not a comment."
   ]
  },
  {
   "cell_type": "markdown",
   "metadata": {},
   "source": [
    "Numbers behave just as you would expect. "
   ]
  },
  {
   "cell_type": "code",
   "execution_count": null,
   "metadata": {},
   "outputs": [],
   "source": [
    "1 + 1"
   ]
  },
  {
   "cell_type": "code",
   "execution_count": null,
   "metadata": {},
   "outputs": [],
   "source": [
    "1 - 3"
   ]
  },
  {
   "cell_type": "code",
   "execution_count": null,
   "metadata": {},
   "outputs": [],
   "source": [
    "4 * 2"
   ]
  },
  {
   "cell_type": "code",
   "execution_count": null,
   "metadata": {},
   "outputs": [],
   "source": [
    "5 / 2"
   ]
  },
  {
   "cell_type": "markdown",
   "metadata": {},
   "source": [
    "For exponents, use **"
   ]
  },
  {
   "cell_type": "code",
   "execution_count": null,
   "metadata": {},
   "outputs": [],
   "source": [
    "4**2"
   ]
  },
  {
   "cell_type": "markdown",
   "metadata": {},
   "source": [
    "Remember when we defined x? We can retrieve that from memory and perform operations on it. "
   ]
  },
  {
   "cell_type": "code",
   "execution_count": null,
   "metadata": {},
   "outputs": [],
   "source": [
    "x + 2"
   ]
  },
  {
   "cell_type": "markdown",
   "metadata": {},
   "source": [
    "This does not change the value of x. "
   ]
  },
  {
   "cell_type": "code",
   "execution_count": null,
   "metadata": {},
   "outputs": [],
   "source": [
    "x"
   ]
  },
  {
   "cell_type": "markdown",
   "metadata": {},
   "source": [
    "To store the value of the previous operation, define a new variable. "
   ]
  },
  {
   "cell_type": "code",
   "execution_count": null,
   "metadata": {},
   "outputs": [],
   "source": [
    "bigger_than_x = x + 2 # This line assigns the result of x+2 to the variable called bigger_than_x\n",
    "bigger_than_x         # This line is purely to display the variable. Usually, you don't need to print variables while running your programs."
   ]
  },
  {
   "cell_type": "markdown",
   "metadata": {},
   "source": [
    "What's the value of mystery_variable, below?"
   ]
  },
  {
   "cell_type": "code",
   "execution_count": null,
   "metadata": {},
   "outputs": [],
   "source": [
    "mystery_variable = bigger_than_x + x"
   ]
  },
  {
   "cell_type": "markdown",
   "metadata": {},
   "source": [
    "# Scripts"
   ]
  },
  {
   "cell_type": "markdown",
   "metadata": {},
   "source": [
    "Scripts are simply a series of Python commands. These (and functions) serve as the proverbial \"black box\" which we just talked about. Typically, during analysis, you will want to run a series of computations that you design. But later on, you don't want to recall each and every one of these steps necessarily. Instead, you want to abstract away the tedious stuff and only focus on the big picture. \n",
    "\n",
    "For example, if you want to compute an animal's freezing levels for a session, think about what you have to do to actually do this by hand. Assuming you have the animal's velocity on each frame, you would want to set a threshold of velocity (below some number), then find all the time points where the animal was below this threshold. Perhaps you would even want to set a minimum freezing duration. Then you would need to threshold again. Finally, you would need to find the total duration of freezing and divide by the length of the session to get a percentage. Imagine the tedium if you had to hand-code this for each session. The power of programming comes in the ability to write a script (or a function) to do all this in one go for every session and name it something intuitive like \"CalculateFreezing\". \n",
    "\n",
    "Below is an example script. This script allows you to calculate the pressure of a gas given a bunch of other arbitrary properties based on the ideal gas law.  "
   ]
  },
  {
   "cell_type": "code",
   "execution_count": 6,
   "metadata": {},
   "outputs": [
    {
     "data": {
      "text/plain": [
       "453.96678600000007"
      ]
     },
     "execution_count": 6,
     "metadata": {},
     "output_type": "execute_result"
    }
   ],
   "source": [
    "# PV = nRT --> P = nRT/V\n",
    "\n",
    "R = 8.31441    # Gas constant in J K^-1 mol^-1. Don't modify this.\n",
    "\n",
    "# Try changing these parameters around. \n",
    "n = 1          # Number of moles.\n",
    "T = 273        # Temperature in Kelvin\n",
    "V = 5          # Volume in m^3\n",
    "\n",
    "# Do the calculation. \n",
    "P = (n*R*T)/V  # Get pressure in Pascals\n",
    "P"
   ]
  },
  {
   "cell_type": "markdown",
   "metadata": {},
   "source": [
    "You can save the script and name it something convenient. Run the cell below to define your script:"
   ]
  },
  {
   "cell_type": "code",
   "execution_count": 7,
   "metadata": {},
   "outputs": [],
   "source": [
    "def FindPressure():\n",
    "    R = 8.31441    # Gas constant in J K^-1 mol^-1. \n",
    "\n",
    "    n = 1          # Number of moles.\n",
    "    T = 273        # Temperature in Kelvin\n",
    "    V = 5          # Volume in m^3\n",
    "\n",
    "    # Do the calculation. \n",
    "    P = (n*R*T)/V \n",
    "    \n",
    "    print(P)"
   ]
  },
  {
   "cell_type": "markdown",
   "metadata": {},
   "source": [
    "Now you can run the script."
   ]
  },
  {
   "cell_type": "code",
   "execution_count": 10,
   "metadata": {},
   "outputs": [
    {
     "name": "stdout",
     "output_type": "stream",
     "text": [
      "453.96678600000007\n"
     ]
    }
   ],
   "source": [
    "# The parentheses tells Python that you're trying to run something rather than recall a variable. \n",
    "FindPressure()"
   ]
  },
  {
   "cell_type": "markdown",
   "metadata": {},
   "source": [
    "Unfortunately, since you defined the script like this, you are stuck on finding the pressure for the exact conditions as you specified earlier. If you want to find the pressure of a gas under different conditions, you would need to define a new script. If only there were a way to make more \"flexible\" scripts..."
   ]
  },
  {
   "cell_type": "markdown",
   "metadata": {},
   "source": [
    "# Functions"
   ]
  },
  {
   "cell_type": "markdown",
   "metadata": {},
   "source": [
    "Most of your time programming will be spent writing functions. Functions take an input (also called arguments), operate on it, then produce an output. To write a function, this is the syntax:"
   ]
  },
  {
   "cell_type": "code",
   "execution_count": null,
   "metadata": {},
   "outputs": [],
   "source": [
    "# The keyword def tells Python you're defining a function. The next value is the function name.\n",
    "def add_two(argument):\n",
    "    # Indentation is important in Python. After the colon, indent the contents of the function. \n",
    "    # What your function does here. \n",
    "    output = argument + 2\n",
    "    \n",
    "    # The keyword return exits the function and spits out the final value. \n",
    "    return output"
   ]
  },
  {
   "cell_type": "markdown",
   "metadata": {},
   "source": [
    "Once you've defined a function, you can use it whenever you want. "
   ]
  },
  {
   "cell_type": "code",
   "execution_count": null,
   "metadata": {},
   "outputs": [],
   "source": [
    "y = add_two(x)\n",
    "y"
   ]
  },
  {
   "cell_type": "code",
   "execution_count": null,
   "metadata": {},
   "outputs": [],
   "source": [
    "z = add_two(x*3) # In programming, the innermost things get resolved first. So here, x*3 happens, then add_two() on 4.5.  \n",
    "z"
   ]
  },
  {
   "cell_type": "markdown",
   "metadata": {},
   "source": [
    "The power of programming comes from the fact that your functions can be infinitely complex. We're only doing arithmetic here, but later you will be able to do more complex things. "
   ]
  },
  {
   "cell_type": "code",
   "execution_count": null,
   "metadata": {},
   "outputs": [],
   "source": [
    "# Defining our insane function.\n",
    "def crazy_town(argument1, argument2):\n",
    "    x = argument1 + argument2\n",
    "    y = x**5 + 2\n",
    "    z = x - y \n",
    "    output = x / 2 + z\n",
    "    \n",
    "    return output\n",
    "\n",
    "# Use the function on some stuff.\n",
    "crazy_town(1204012, 10)"
   ]
  },
  {
   "cell_type": "markdown",
   "metadata": {},
   "source": [
    "# Exercise 1: Convert your Gas Law script into a function"
   ]
  },
  {
   "cell_type": "markdown",
   "metadata": {},
   "source": [
    "Write a function that does the same thing as our FindPressure() script, but this time, allowing it to take multiple arguments (n, T, and V) to find P. \n",
    "\n",
    "Below is a cell with commented guidelines on how you should structure this function. Usually the challenge in programming is figuring out the structure behind your algorithm, so I will first provide these training wheels so that you can learn Python syntax and fundamentals first. Then in later sessions, I will begin to drop these training wheels. "
   ]
  },
  {
   "cell_type": "code",
   "execution_count": null,
   "metadata": {},
   "outputs": [],
   "source": [
    "# Define your function here. Call it whatever you want. \n",
    "\n",
    "    # Define R here (it's a constant, so it should never be an argument)\n",
    "    \n",
    "    # Do the computation here. \n",
    "    \n",
    "    # Return the value P. "
   ]
  },
  {
   "cell_type": "markdown",
   "metadata": {},
   "source": [
    "# Importing packages"
   ]
  },
  {
   "cell_type": "markdown",
   "metadata": {},
   "source": [
    "Python has many built-in functions. If it's not built-in, it might also live in what's called a package, that other people have developed. Packages can be found online. Usually, if you are looking for a specific functionality, you will consult Google or StackOverflow. Helpful people on SO will direct you to a package of interest. You can then Google the package plus \"conda\", which will bring you to a page like this: https://anaconda.org/conda-forge/scikit-learn. Then you can open Terminal/Anaconda Prompt to install the package according to your OS. \n",
    "\n",
    "Inside packages are modules, which contain functions or other useful Python objects. Modules are imported, usually at the beginning of the Python file you are writing. Here, we'll import a module called stats from a package called scipy. "
   ]
  },
  {
   "cell_type": "code",
   "execution_count": null,
   "metadata": {},
   "outputs": [],
   "source": [
    "# This will import a module called stats from a package called scipy:\n",
    "import scipy.stats as stats\n",
    "\n",
    "# You can also write this as:\n",
    "from scipy import stats"
   ]
  },
  {
   "cell_type": "markdown",
   "metadata": {},
   "source": [
    "The \"as\" in the code above creates a namespace called \"stats\" that contains all your scipy.stats functions. Think of a namespace as a zip code for function names. You can have multiple functions of the same name, as long as they live in different namespaces. For example, there's a 910 Comm Ave in Brookline, but also one in Newton. The zip code (namespace) distinguishes them. "
   ]
  },
  {
   "cell_type": "code",
   "execution_count": null,
   "metadata": {},
   "outputs": [],
   "source": [
    "# This is just an example of using a function in the stats namespace. This particular function will find repeats in a list \n",
    "# of numbers. \n",
    "values, counts = stats.find_repeats([2, 1, 2, 3, 2, 2, 5]) \n",
    "# The brackets flanking the numbers defines a \"list\". Lists will be covered in the next session.\n",
    "\n",
    "# \"values\" contains the values of the list that are repeated.\n",
    "# \"counts\" contains the number of times that the values are repeated. "
   ]
  },
  {
   "cell_type": "code",
   "execution_count": null,
   "metadata": {},
   "outputs": [],
   "source": [
    "values"
   ]
  },
  {
   "cell_type": "code",
   "execution_count": null,
   "metadata": {},
   "outputs": [],
   "source": [
    "counts"
   ]
  },
  {
   "cell_type": "markdown",
   "metadata": {},
   "source": [
    "Below are some other variants on how you can import packages, modules, and functions. Don't worry too much about the details here. Just know that these options exist. Also I wouldn't recommend importing recklessly like we're doing here, since errors can arise under normal conditions. This is just for illustrative purposes. "
   ]
  },
  {
   "cell_type": "code",
   "execution_count": null,
   "metadata": {},
   "outputs": [],
   "source": [
    "from scipy import stats as s\n",
    "s.find_repeats([2, 1, 2, 3, 2, 2, 5])"
   ]
  },
  {
   "cell_type": "code",
   "execution_count": null,
   "metadata": {},
   "outputs": [],
   "source": [
    "from scipy.stats import find_repeats as awesome_function\n",
    "awesome_function([2, 1, 2, 3, 2, 2, 5])"
   ]
  },
  {
   "cell_type": "markdown",
   "metadata": {},
   "source": [
    "You can also import the whole package scipy, if you plan to use a lot of modules from it. It's usually a stylistic choice what you import. "
   ]
  },
  {
   "cell_type": "code",
   "execution_count": null,
   "metadata": {},
   "outputs": [],
   "source": [
    "import scipy\n",
    "scipy.stats.find_repeats([2, 1, 2, 3, 2, 2, 5])"
   ]
  },
  {
   "cell_type": "markdown",
   "metadata": {},
   "source": [
    "# Exercise 2: Write a script to load data and plot it"
   ]
  },
  {
   "cell_type": "markdown",
   "metadata": {},
   "source": [
    "Now let's get sciencing. Write a script that will load data from a file then plot it. \n",
    "To do this, we will need help from two packages, \"pickle\" and \"matplotlib\". \n",
    "\n",
    "Pickle allows you to save/load Python objects to/from your hard drive. This can be useful for sharing processed data or establishing checkpoints in your analyses. \n",
    "\n",
    "Matplotlib is a library of plotting tools that is very powerful and contains lots of features. \n",
    "\n",
    "The data you will be plotting is the velocity of a mouse during a fear conditioning session. It is located in the directory where you saved this repository under the Data folder. "
   ]
  },
  {
   "cell_type": "code",
   "execution_count": null,
   "metadata": {},
   "outputs": [],
   "source": [
    "# Import the library called pickle here. \n",
    "# Import the module matplotlib.pyplot here as \"plt\". \n",
    "\n",
    "# Next, define the variable representing the file path here. The file is called \"fc_velocity.pkl\" and lives in the Data folder. \n",
    "# Name your variable \"fname\".\n",
    "\n",
    "# This line opens the file. \n",
    "with open(fname, 'rb') as file:\n",
    "    # Here, extract the data from \"file\" and store it in a variable. The function you will want to call is named pickle.load(). \n",
    "    # Google the syntax for it. \n",
    "    \n",
    "# Plot your velocity data using plt.plot(). "
   ]
  },
  {
   "cell_type": "markdown",
   "metadata": {},
   "source": [
    "# Exercise 3: Convert the script above into a function"
   ]
  },
  {
   "cell_type": "markdown",
   "metadata": {},
   "source": [
    "Next, turn this script into a function. Name it whatever you like, but it must take a file path, load the data from, then plot it, just like above. However, you must also store the data in a variable. "
   ]
  },
  {
   "cell_type": "code",
   "execution_count": 11,
   "metadata": {},
   "outputs": [],
   "source": [
    "# Define your function here. You can reuse a lot of the content from the previous cell. "
   ]
  }
 ],
 "metadata": {
  "kernelspec": {
   "display_name": "Python 3",
   "language": "python",
   "name": "python3"
  },
  "language_info": {
   "codemirror_mode": {
    "name": "ipython",
    "version": 3
   },
   "file_extension": ".py",
   "mimetype": "text/x-python",
   "name": "python",
   "nbconvert_exporter": "python",
   "pygments_lexer": "ipython3",
   "version": "3.6.0"
  }
 },
 "nbformat": 4,
 "nbformat_minor": 1
}